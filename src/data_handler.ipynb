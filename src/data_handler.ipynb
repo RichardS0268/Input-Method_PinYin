{
 "cells": [
  {
   "cell_type": "code",
   "execution_count": 11,
   "metadata": {},
   "outputs": [],
   "source": [
    "import json\n",
    "from os import listdir\n",
    "from tqdm import tqdm\n",
    "import re\n",
    "path = './sina_news_gbk' # 压缩包中未上传"
   ]
  },
  {
   "cell_type": "code",
   "execution_count": 12,
   "metadata": {},
   "outputs": [
    {
     "data": {
      "text/plain": [
       "['2016-02.txt',\n",
       " '2016-06.txt',\n",
       " '2016-08.txt',\n",
       " '2016-09.txt',\n",
       " '2016-07.txt',\n",
       " '2016-04.txt',\n",
       " '2016-05.txt',\n",
       " '2016-11.txt',\n",
       " '2016-10.txt']"
      ]
     },
     "execution_count": 12,
     "metadata": {},
     "output_type": "execute_result"
    }
   ],
   "source": [
    "filelist = listdir(path)\n",
    "filelist.remove('README.txt')\n",
    "filelist"
   ]
  },
  {
   "cell_type": "code",
   "execution_count": 13,
   "metadata": {},
   "outputs": [],
   "source": [
    "def sentence_process(sentence, dot)->str:\n",
    "    '''\n",
    "    字符处理函数：\n",
    "    1.将阿拉伯数字替换成相应的汉字。\n",
    "    2.将所有非一二级汉字的字符替换成空格（形成“词组”）。\n",
    "    函数返回处理后的字符串\n",
    "    '''\n",
    "    hanzi = ['零', '一', '二', '三', '四', '五', '六', '七', '八', '九']\n",
    "    new_sen = \"\"\n",
    "    num_str = \"0123456789\"\n",
    "    for unit in sentence:\n",
    "        if (num_str.find(unit)>-1):\n",
    "            new_sen = new_sen + hanzi[re.search(unit, num_str).span()[1] - 1]\n",
    "        elif unit in dot:\n",
    "            new_sen = new_sen + \" \"\n",
    "        else:\n",
    "            new_sen = new_sen + unit\n",
    "    return new_sen"
   ]
  },
  {
   "cell_type": "code",
   "execution_count": null,
   "metadata": {},
   "outputs": [],
   "source": [
    "# 生成sentences_raw.txt\n",
    "print(\"Read and merge content of txt\")\n",
    "for file in filelist:\n",
    "    print(file)\n",
    "    with open(path + \"/\" + file, \"r\", encoding='gbk') as f_read:\n",
    "            with open(\"./sentences_raw.txt\", \"w\", encoding='utf-8') as f_in:\n",
    "                for line in tqdm(f_read.readlines(), desc=\"Processing\"):\n",
    "                    data = json.loads(line)\n",
    "                    f_in.write(data[\"title\"]+'\\n')\n",
    "                    f_in.write(data[\"html\"].strip(\"原标题：\"+data[\"title\"]) +'\\n')\n",
    "\n",
    "# 统计语料库中出现的符号\n",
    "dot = []\n",
    "with open(\"./一二级汉字表.txt\", \"r\", encoding='utf-8') as f1:\n",
    "    print(\"Find special symbols\")\n",
    "    word = f1.read()\n",
    "    with open(\"./sentences_raw.txt\", \"r\", encoding='utf-8') as f2:\n",
    "        sentence = f2.read()\n",
    "        for unit in tqdm(sentence, desc=\"Processing\"):\n",
    "            if (unit not in word):\n",
    "                dot.append(unit)\n",
    "dot = list(set(dot))\n",
    "\n",
    "# 生成sentences.txt\n",
    "with open(\"./sentences_raw.txt\", \"r\", encoding='utf-8') as f_read:\n",
    "    with open(\"./sentences.txt\", \"w\", encoding='utf-8') as f_in:\n",
    "        print(\"Filter special symbols\")\n",
    "        for line in tqdm(f_read.readlines(), desc=\"Processing\"):\n",
    "            f_in.write(sentence_process(line, dot)+'\\n')\n",
    "\n",
    "# 规整数据格式，“一句话”为一行\n",
    "with open(\"./sentences.txt\", \"r\", encoding='utf-8') as f_read:\n",
    "    with open(\"./sentences_normal.txt\", \"w\", encoding='utf-8') as f_in:\n",
    "        print(\"Adjust the data format\")\n",
    "        lines = f_read.readlines() # 整行读取数据，函数返回一个字符串\n",
    "        for line in tqdm(lines, desc=\"Processing\"):\n",
    "            if line:\n",
    "                items = line.split()\n",
    "                for item in items:\n",
    "                    f_in.write(item + \"\\n\")"
   ]
  }
 ],
 "metadata": {
  "interpreter": {
   "hash": "c65d005f803e204758a0832aa4706f4cea84163cd45d2efe412da3167c3b3a79"
  },
  "kernelspec": {
   "display_name": "Python 3.8.12 ('tf2')",
   "language": "python",
   "name": "python3"
  },
  "language_info": {
   "codemirror_mode": {
    "name": "ipython",
    "version": 3
   },
   "file_extension": ".py",
   "mimetype": "text/x-python",
   "name": "python",
   "nbconvert_exporter": "python",
   "pygments_lexer": "ipython3",
   "version": "3.8.12"
  },
  "orig_nbformat": 4
 },
 "nbformat": 4,
 "nbformat_minor": 2
}
